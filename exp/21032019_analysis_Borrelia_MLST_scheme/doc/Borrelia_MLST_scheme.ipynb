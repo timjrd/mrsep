{
 "cells": [
  {
   "cell_type": "markdown",
   "metadata": {},
   "source": [
    "# Statistics of the Borrelia MLST scheme\n",
    "### Cedric Chauve, 21/03/2019\n",
    "\n",
    "### Abstract.\n",
    "We look at the loci and alleles of the Borellia MLST scheme, to get a rough understanding of the size of this scheme and the variability of the alleles."
   ]
  },
  {
   "cell_type": "markdown",
   "metadata": {},
   "source": [
    "## Data\n",
    "\n",
    "The data of the Borellia MLST scheme we consider are in the directory ../../../data/Borrelia/MLST_19032019. They consist of the alleles per loci and of the alignments of the alleles of each locus obtained zith Muscle and MAFFT. See the file ../../data/Borrelia/MLST_19032019/README."
   ]
  },
  {
   "cell_type": "code",
   "execution_count": 3,
   "metadata": {},
   "outputs": [],
   "source": [
    "import numpy as np\n",
    "import matplotlib.pyplot as plt"
   ]
  },
  {
   "cell_type": "code",
   "execution_count": 4,
   "metadata": {},
   "outputs": [],
   "source": [
    "# Data: global variables\n",
    "# Loci names\n",
    "LOCI = ['clpA', 'clpX', 'nifS', 'pepX', 'pyrG', 'recG', 'rplB', 'uvrA']\n",
    "# Data directory\n",
    "DATA_DIR = '../../../data/Borrelia/MLST_19032019/'\n",
    "# Alignments prefix\n",
    "ALIGNMENTS_ALGO = ['muscle', 'mafft']"
   ]
  },
  {
   "cell_type": "code",
   "execution_count": 5,
   "metadata": {},
   "outputs": [],
   "source": [
    "# Reading a FASTA file into a dictionary\n",
    "def fasta2dic(file):\n",
    "    result = {}\n",
    "    data   = open(file,'r').readlines()\n",
    "    for l in data:\n",
    "        if l[0] == '>':\n",
    "            name = l[1:].rstrip()\n",
    "            result[name] = ''\n",
    "        else:\n",
    "            result[name] += l.rstrip()\n",
    "    return(result)\n",
    "\n",
    "# Loading the alleles sequences for each locus\n",
    "ALLELES = {locus: {} for locus in LOCI}\n",
    "for locus in LOCI:\n",
    "    alleles_file = DATA_DIR+locus+'.fasta'\n",
    "    ALLELES[locus] = fasta2dic(alleles_file)\n",
    "\n",
    "# Loading the alignments of the alleles for each locus\n",
    "ALIGNMENTS = {algo: {locus: {} for locus in LOCI} for algo in ALIGNMENTS_ALGO}\n",
    "for locus in LOCI:\n",
    "    for algo in ALIGNMENTS_ALGO:\n",
    "        alignment_file = DATA_DIR+locus+'_'+algo+'.fasta'\n",
    "        ALIGNMENTS[algo][locus] = fasta2dic(alignment_file)"
   ]
  },
  {
   "cell_type": "markdown",
   "metadata": {},
   "source": [
    "## Analysis.\n"
   ]
  },
  {
   "cell_type": "code",
   "execution_count": 6,
   "metadata": {},
   "outputs": [
    {
     "name": "stdout",
     "output_type": "stream",
     "text": [
      "We first look at the number of alleles per locus\n",
      "\tLocus clpA has 296 alleles\n",
      "\tLocus clpX has 258 alleles\n",
      "\tLocus nifS has 231 alleles\n",
      "\tLocus pepX has 261 alleles\n",
      "\tLocus pyrG has 269 alleles\n",
      "\tLocus recG has 285 alleles\n",
      "\tLocus rplB has 250 alleles\n",
      "\tLocus uvrA has 261 alleles\n"
     ]
    }
   ],
   "source": [
    "print('We first look at the number of alleles per locus')\n",
    "for locus in LOCI:\n",
    "    print('\\tLocus '+locus+' has '+str(len(ALLELES[locus]))+' alleles')"
   ]
  },
  {
   "cell_type": "markdown",
   "metadata": {},
   "source": [
    "#### Comments.\n",
    "So roughly every locus has between 250 and 300 alleles."
   ]
  },
  {
   "cell_type": "code",
   "execution_count": 7,
   "metadata": {},
   "outputs": [
    {
     "name": "stdout",
     "output_type": "stream",
     "text": [
      "We now look at the distribution of the lengths of the alleles per locus\n",
      "\n"
     ]
    },
    {
     "data": {
      "image/png": "[encoded data removed]",
      "text/plain": [
       "<Figure size 432x432 with 1 Axes>"
      ]
     },
     "metadata": {
      "needs_background": "light"
     },
     "output_type": "display_data"
    }
   ],
   "source": [
    "print('We now look at the distribution of the lengths of the alleles per locus\\n')\n",
    "\n",
    "ALLELES_LG = {locus: [len(ALLELES[locus][allele]) for allele in ALLELES[locus].keys()] for locus in LOCI}\n",
    "\n",
    "plt.figure(figsize=(6,6))\n",
    "ax_alleles_lg = plt.subplot(1, 1, 1)\n",
    "ax_alleles_lg.boxplot([np.array(ALLELES_LG[locus]) for locus in LOCI])\n",
    "ax_alleles_lg.set_xticklabels(LOCI)\n",
    "ax_alleles_lg.set_xlabel('locus')\n",
    "ax_alleles_lg.set_ylabel('length')\n",
    "ax_alleles_lg.set_title('Length of alleles per locus')\n",
    "plt.tight_layout()\n",
    "plt.show()"
   ]
  },
  {
   "cell_type": "markdown",
   "metadata": {},
   "source": [
    "#### Comments.\n",
    "Roughly the alleles are of the same length, although there is some variation for clpA."
   ]
  },
  {
   "cell_type": "code",
   "execution_count": 8,
   "metadata": {},
   "outputs": [
    {
     "name": "stdout",
     "output_type": "stream",
     "text": [
      "We now look at the alignments of the alleles sequences per locus, particularly to the number of gaps (symbols -).\n"
     ]
    },
    {
     "data": {
      "image/png": "[encoded data removed]",
      "text/plain": [
       "<Figure size 864x432 with 2 Axes>"
      ]
     },
     "metadata": {
      "needs_background": "light"
     },
     "output_type": "display_data"
    }
   ],
   "source": [
    "print('We now look at the alignments of the alleles sequences per locus, particularly to the number of gaps (symbols -).')\n",
    "\n",
    "ALIGNMENTS_GAPS = {algo: {locus: [ALIGNMENTS[algo][locus][allele].count('-') for allele in ALLELES[locus].keys()] for locus in LOCI} for algo in ALIGNMENTS_ALGO}\n",
    "\n",
    "plt.figure(figsize=(12,6))\n",
    "ax_alignment_gaps_muscle = plt.subplot(1, 2, 1)\n",
    "ax_alignment_gaps_muscle.boxplot([np.array(ALIGNMENTS_GAPS['muscle'][locus]) for locus in LOCI])\n",
    "ax_alignment_gaps_muscle.set_xticklabels(LOCI)\n",
    "ax_alignment_gaps_muscle.set_xlabel('locus')\n",
    "ax_alignment_gaps_muscle.set_ylabel('number of gaps')\n",
    "ax_alignment_gaps_muscle.set_title('Number of gaps per allele in the alignments with muscle')\n",
    "ax_alignment_gaps_mafft = plt.subplot(1, 2, 2)\n",
    "ax_alignment_gaps_mafft.boxplot([np.array(ALIGNMENTS_GAPS['mafft'][locus]) for locus in LOCI])\n",
    "ax_alignment_gaps_mafft.set_xticklabels(LOCI)\n",
    "ax_alignment_gaps_mafft.set_xlabel('locus')\n",
    "ax_alignment_gaps_mafft.set_ylabel('number of gaps')\n",
    "ax_alignment_gaps_mafft.set_title('Number of gaps per allele in the alignments with MAFFT')\n",
    "plt.tight_layout()\n",
    "plt.show()"
   ]
  },
  {
   "cell_type": "markdown",
   "metadata": {},
   "source": [
    "#### Comments.\n",
    "We observe less gaps in the clpA alignment with MAFFT. A quick look at the muscle alignments for clpA shows that some gaps are of the form '--' which is not great as we expect gaps of the form '---' corresponding to codons; conversely, the MAFFT alignments seem to contain only '---' gaps, so we can assume they are better, but the choice of the alignments to consider might be something to look at early.  "
   ]
  },
  {
   "cell_type": "code",
   "execution_count": 11,
   "metadata": {},
   "outputs": [
    {
     "name": "stdout",
     "output_type": "stream",
     "text": [
      "Let's see how many columns are constant accross all aligned alleles for each gene:\n",
      "\n",
      "const/total: 180 / 593  gene: clpA  algo: muscle\n",
      "const/total: 179 / 591  gene: clpA  algo: mafft\n",
      "\n",
      "const/total: 332 / 627  gene: clpX  algo: muscle\n",
      "const/total: 332 / 627  gene: clpX  algo: mafft\n",
      "\n",
      "const/total: 243 / 564  gene: nifS  algo: muscle\n",
      "const/total: 243 / 564  gene: nifS  algo: mafft\n",
      "\n",
      "const/total: 226 / 570  gene: pepX  algo: muscle\n",
      "const/total: 226 / 570  gene: pepX  algo: mafft\n",
      "\n",
      "const/total: 283 / 606  gene: pyrG  algo: muscle\n",
      "const/total: 283 / 606  gene: pyrG  algo: mafft\n",
      "\n",
      "const/total: 285 / 651  gene: recG  algo: muscle\n",
      "const/total: 285 / 651  gene: recG  algo: mafft\n",
      "\n",
      "const/total: 328 / 624  gene: rplB  algo: muscle\n",
      "const/total: 328 / 624  gene: rplB  algo: mafft\n",
      "\n",
      "const/total: 277 / 579  gene: uvrA  algo: muscle\n",
      "const/total: 277 / 579  gene: uvrA  algo: mafft\n",
      "\n",
      "The total number of constant/variable columns with muscle is 2154/2660\n",
      "\n",
      "The total number of constant/variable columns with mafft is 2153/2659\n"
     ]
    }
   ],
   "source": [
    "print(\"Let's see how many columns are constant accross all aligned alleles for each gene:\")\n",
    "\n",
    "NB_CONST = {}\n",
    "for algo in ALIGNMENTS_ALGO:\n",
    "    NB_CONST[algo] = {}\n",
    "    for locus in LOCI:\n",
    "        NB_CONST[algo][locus] = 0\n",
    "        some = next(iter(ALIGNMENTS[algo][locus].values()))\n",
    "        for i in range(0, len(some)):\n",
    "            first = some[i]\n",
    "            const = True\n",
    "            for _, allele in ALIGNMENTS[algo][locus].items():\n",
    "                if allele[i] != first:\n",
    "                    const = False\n",
    "                    break\n",
    "            if const:\n",
    "                NB_CONST[algo][locus] += 1\n",
    "           \n",
    "nb_const_all = {algo: 0 for algo in ALIGNMENTS_ALGO}\n",
    "nb_var_all   = {algo: 0 for algo in ALIGNMENTS_ALGO}\n",
    "for locus in LOCI:\n",
    "    print()\n",
    "    for algo in ALIGNMENTS_ALGO:\n",
    "        some = next(iter(ALIGNMENTS[algo][locus].values()))\n",
    "        print(\"const/total:\", NB_CONST[algo][locus], \"/\", len(some), \" gene:\", locus, \" algo:\", algo)\n",
    "        nb_const_all[algo] += NB_CONST[algo][locus]\n",
    "        nb_var_all[algo]   += len(some)-NB_CONST[algo][locus]\n",
    "for algo in ALIGNMENTS_ALGO:\n",
    "    print('\\nThe total number of constant/variable columns with '+algo+' is '+str(nb_const_all[algo])+'/'+str(nb_var_all[algo]))\n"
   ]
  },
  {
   "cell_type": "code",
   "execution_count": null,
   "metadata": {},
   "outputs": [],
   "source": []
  },
  {
   "cell_type": "code",
   "execution_count": null,
   "metadata": {},
   "outputs": [],
   "source": []
  }
 ],
 "metadata": {
  "kernelspec": {
   "display_name": "Python 3",
   "language": "python",
   "name": "python3"
  },
  "language_info": {
   "codemirror_mode": {
    "name": "ipython",
    "version": 3
   },
   "file_extension": ".py",
   "mimetype": "text/x-python",
   "name": "python",
   "nbconvert_exporter": "python",
   "pygments_lexer": "ipython3",
   "version": "3.6.8"
  }
 },
 "nbformat": 4,
 "nbformat_minor": 2
}

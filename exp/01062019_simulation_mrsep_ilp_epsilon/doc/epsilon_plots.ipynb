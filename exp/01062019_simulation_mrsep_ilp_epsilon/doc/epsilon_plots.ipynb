{
 "cells": [
  {
   "cell_type": "markdown",
   "metadata": {},
   "source": [
    "# ILP solver: Number of assignments with simulated reads depending on the constraint softening parameter ε\n",
    "Timothée Jourde, Cedric Chauve  \n",
    "June 20, 2019\n",
    "\n",
    "### Abstract\n",
    "In this notebook, we describe the results of applying our base ILP, with weighted read mappings accounting for mismatches, to various sets of simulated reads for instances composed of alleles of the *clpA* locus, with the aim to see how our ILP scales with increasingly complex instances."
   ]
  },
  {
   "cell_type": "markdown",
   "metadata": {},
   "source": [
    "## Methods.\n",
    "\n",
    "We generated various instances composed of (1) a set of randomly chosen alleles for *clpA* and random copy numbers for each allele, (2) a database of known alleles including the chosen alleles, and (3) a range of values for the parameter $\\epsilon$. \n",
    "\n",
    "We started with instances where the alleles database is exactly the set of selected alleles, then progressively increased the size of this database. In all datasets, the sequencing depth was $100x$ and simulated reads were generated using Art.\n",
    "\n",
    "Let's see the parameters used for the generation of simulated reads:"
   ]
  },
  {
   "cell_type": "code",
   "execution_count": null,
   "metadata": {},
   "outputs": [],
   "source": [
    "!cat ../data/clpA/3721cdda46/sim/params.json"
   ]
  },
  {
   "cell_type": "markdown",
   "metadata": {},
   "source": [
    "- `*_nb_alleles` is the number of alleles taken from the database `alleles_file` which are then used to generate a sample.\n",
    "- `ends_length` is the length of random DNA sequences prepended and appended to each allele of the sample before feeding them to Art in order to get an uniform coverage. The resulting reads are then truncated.\n",
    "- `*_copy_nb` dictates how many times each chosen allele is replicated in the sample.\n",
    "- When `take_ref` is `true` we output error-free reads.\n",
    "- `art_flags` are raw parameters given to Art."
   ]
  },
  {
   "cell_type": "markdown",
   "metadata": {},
   "source": [
    "For each dataset, we recorded how many reads were assigned to an allele by the ILP if either the raw simulated reads are used or the reads corrected for sequencing errors are used. Please note that while the following plots show the number of read assignments, we don't check that those assignments are correct."
   ]
  },
  {
   "cell_type": "markdown",
   "metadata": {},
   "source": [
    "Let's see the directory tree of a batch `results-*`:"
   ]
  },
  {
   "cell_type": "code",
   "execution_count": null,
   "metadata": {},
   "outputs": [],
   "source": [
    "!tree ../results-000"
   ]
  },
  {
   "cell_type": "markdown",
   "metadata": {},
   "source": [
    "Here we ran the ILP `2 * epsilons` times over `2` datasets `clpA/3721cdda46/ref` and `clpA/3721cdda46/sim`. For each dataset, we derived one filtered instance `a001-r001` with an alleles database of size one (`a001`) and reads originating from that one allele (`r001`) only. `ref` (references) means that instead of taking the simulated reads, we took the corresponding reference sequences, thus canceling any simulated errors. `sim` (simulated) means we took the simulated reads with errors."
   ]
  },
  {
   "cell_type": "markdown",
   "metadata": {},
   "source": [
    "## Results\n",
    "Below are 5 batches, all starting from the same datasets but each with different parameters regarding instance filtering. As said above, the following plots show the number of read assignments depending on the constraint softening parameter ε. Each dot is an ILP run.\n",
    "\n",
    "Each plot is accompagnied by a description following this format:\n",
    "```\n",
    "Paths              ../results-001/clpA/3721cdda46/*/a010-r003\n",
    "Datasets           clpA/3721cdda46/ref clpA/3721cdda46/sim\n",
    "Alleles database   10\n",
    "Alleles in reads   3\n",
    "Reads              3440\n",
    "Bases              293548\n",
    "Faulty reads       45.52 %\n",
    "Faulty bases       0.73 %\n",
    "Timeout            10 minutes\n",
    "\n",
    "```\n",
    "- `Alleles database` is the size of the alleles database given to the ILP solver.\n",
    "- `Alleles in reads` is the number of alleles in the sample (from which the reads come).\n",
    "- `Reads` is the number of reads given to the ILP solver.\n",
    "- `Bases` is the sum of the length of all reads.\n",
    "- `Faulty reads` is the percentage of reads with at least one sequencing error.\n",
    "- `Faulty bases` is the percentage of per-nucleobase sequencing error.\n",
    "- After `Timeout`, the ILP solver is killed and the solution is discarded causing a missing dot on the plot."
   ]
  },
  {
   "cell_type": "code",
   "execution_count": null,
   "metadata": {},
   "outputs": [],
   "source": [
    "%%javascript\n",
    "IPython.OutputArea.prototype._should_scroll = function(lines) {\n",
    "  return false;\n",
    "}"
   ]
  },
  {
   "cell_type": "code",
   "execution_count": null,
   "metadata": {},
   "outputs": [],
   "source": [
    "%run ../src/plots.py"
   ]
  },
  {
   "cell_type": "markdown",
   "metadata": {},
   "source": [
    "### `results-000-no-weights`"
   ]
  },
  {
   "cell_type": "code",
   "execution_count": null,
   "metadata": {},
   "outputs": [],
   "source": [
    "plot_all(\"../results-000-no-weights\")"
   ]
  },
  {
   "cell_type": "markdown",
   "metadata": {},
   "source": [
    "### `results-000`"
   ]
  },
  {
   "cell_type": "code",
   "execution_count": null,
   "metadata": {},
   "outputs": [],
   "source": [
    "plot_all(\"../results-000\")"
   ]
  },
  {
   "cell_type": "markdown",
   "metadata": {},
   "source": [
    "### `results-001`"
   ]
  },
  {
   "cell_type": "code",
   "execution_count": null,
   "metadata": {},
   "outputs": [],
   "source": [
    "plot_all(\"../results-001\")"
   ]
  },
  {
   "cell_type": "markdown",
   "metadata": {},
   "source": [
    "### `results-002`"
   ]
  },
  {
   "cell_type": "code",
   "execution_count": null,
   "metadata": {},
   "outputs": [],
   "source": [
    "plot_all(\"../results-002\")"
   ]
  },
  {
   "cell_type": "markdown",
   "metadata": {},
   "source": [
    "### `results-003`"
   ]
  },
  {
   "cell_type": "code",
   "execution_count": null,
   "metadata": {},
   "outputs": [],
   "source": [
    "plot_all(\"../results-003\")"
   ]
  }
 ],
 "metadata": {
  "kernelspec": {
   "display_name": "Python 3",
   "language": "python",
   "name": "python3"
  },
  "language_info": {
   "codemirror_mode": {
    "name": "ipython",
    "version": 3
   },
   "file_extension": ".py",
   "mimetype": "text/x-python",
   "name": "python",
   "nbconvert_exporter": "python",
   "pygments_lexer": "ipython3",
   "version": "3.6.8"
  }
 },
 "nbformat": 4,
 "nbformat_minor": 2
}
